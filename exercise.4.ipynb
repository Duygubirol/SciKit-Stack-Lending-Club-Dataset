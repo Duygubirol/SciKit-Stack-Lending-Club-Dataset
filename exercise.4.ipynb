{
 "cells": [
  {
   "cell_type": "code",
   "execution_count": 1,
   "metadata": {},
   "outputs": [],
   "source": [
    "\n",
    "import warnings\n",
    "warnings.filterwarnings('ignore')\n",
    "warnings.filterwarnings(\"ignore\",category=DeprecationWarning)\n",
    "import numpy as np\n",
    "import pandas as pd\n",
    "import nltk\n",
    "import re, os\n",
    "import matplotlib.pyplot as plt\n",
    "%matplotlib inline\n",
    "\n",
    "from sklearn import decomposition\n",
    "from sklearn.feature_extraction.text import TfidfVectorizer\n",
    "import matplotlib.pyplot as plt\n",
    "import seaborn as sns\n",
    "\n"
   ]
  },
  {
   "cell_type": "code",
   "execution_count": 2,
   "metadata": {},
   "outputs": [
    {
     "data": {
      "text/html": [
       "<div>\n",
       "<style scoped>\n",
       "    .dataframe tbody tr th:only-of-type {\n",
       "        vertical-align: middle;\n",
       "    }\n",
       "\n",
       "    .dataframe tbody tr th {\n",
       "        vertical-align: top;\n",
       "    }\n",
       "\n",
       "    .dataframe thead th {\n",
       "        text-align: right;\n",
       "    }\n",
       "</style>\n",
       "<table border=\"1\" class=\"dataframe\">\n",
       "  <thead>\n",
       "    <tr style=\"text-align: right;\">\n",
       "      <th></th>\n",
       "      <th>body_text</th>\n",
       "      <th>label</th>\n",
       "    </tr>\n",
       "  </thead>\n",
       "  <tbody>\n",
       "    <tr>\n",
       "      <th>0</th>\n",
       "      <td>A very, very, very slow-moving, aimless movie about a distressed, drifting young man.</td>\n",
       "      <td>0</td>\n",
       "    </tr>\n",
       "    <tr>\n",
       "      <th>1</th>\n",
       "      <td>Not sure who was more lost - the flat characters or the audience, nearly half of whom walked out.</td>\n",
       "      <td>0</td>\n",
       "    </tr>\n",
       "    <tr>\n",
       "      <th>2</th>\n",
       "      <td>Attempting artiness with black &amp; white and clever camera angles, the movie disappointed - became...</td>\n",
       "      <td>0</td>\n",
       "    </tr>\n",
       "    <tr>\n",
       "      <th>3</th>\n",
       "      <td>Very little music or anything to speak of.</td>\n",
       "      <td>0</td>\n",
       "    </tr>\n",
       "    <tr>\n",
       "      <th>4</th>\n",
       "      <td>The best scene in the movie was when Gerardo is trying to find a song that keeps running through...</td>\n",
       "      <td>1</td>\n",
       "    </tr>\n",
       "  </tbody>\n",
       "</table>\n",
       "</div>"
      ],
      "text/plain": [
       "                                                                                             body_text  \\\n",
       "0              A very, very, very slow-moving, aimless movie about a distressed, drifting young man.     \n",
       "1  Not sure who was more lost - the flat characters or the audience, nearly half of whom walked out.     \n",
       "2  Attempting artiness with black & white and clever camera angles, the movie disappointed - became...   \n",
       "3                                                         Very little music or anything to speak of.     \n",
       "4  The best scene in the movie was when Gerardo is trying to find a song that keeps running through...   \n",
       "\n",
       "   label  \n",
       "0      0  \n",
       "1      0  \n",
       "2      0  \n",
       "3      0  \n",
       "4      1  "
      ]
     },
     "execution_count": 2,
     "metadata": {},
     "output_type": "execute_result"
    }
   ],
   "source": [
    "import pandas as pd\n",
    "pd.set_option('display.max_colwidth', 100)\n",
    "\n",
    "df = pd.read_csv('imdb_labelled.txt', sep='\\t', header=None)\n",
    "df.columns = ['body_text','label']\n",
    "\n",
    "df.head()"
   ]
  },
  {
   "cell_type": "code",
   "execution_count": 6,
   "metadata": {},
   "outputs": [
    {
     "data": {
      "text/plain": [
       "(748, 2)"
      ]
     },
     "execution_count": 6,
     "metadata": {},
     "output_type": "execute_result"
    }
   ],
   "source": [
    "df.shape"
   ]
  },
  {
   "cell_type": "code",
   "execution_count": 7,
   "metadata": {},
   "outputs": [],
   "source": [
    "df1 = df.dropna()"
   ]
  },
  {
   "cell_type": "code",
   "execution_count": 9,
   "metadata": {},
   "outputs": [
    {
     "data": {
      "text/plain": [
       "(748, 2)"
      ]
     },
     "execution_count": 9,
     "metadata": {},
     "output_type": "execute_result"
    }
   ],
   "source": [
    "df1.shape"
   ]
  },
  {
   "cell_type": "code",
   "execution_count": 11,
   "metadata": {},
   "outputs": [],
   "source": [
    "df1['count'] = df1['body_text'].apply(lambda x: len(x.split()))"
   ]
  },
  {
   "cell_type": "code",
   "execution_count": 16,
   "metadata": {},
   "outputs": [
    {
     "data": {
      "text/plain": [
       "<Figure size 800x800 with 0 Axes>"
      ]
     },
     "metadata": {},
     "output_type": "display_data"
    },
    {
     "data": {
      "image/png": "[encoded data removed]",
      "text/plain": [
       "<Figure size 500x500 with 1 Axes>"
      ]
     },
     "metadata": {},
     "output_type": "display_data"
    }
   ],
   "source": [
    "plt.figure(figsize= (8, 8))\n",
    "\n",
    "sns.displot(df1['count'])\n",
    "\n",
    "plt.xlim(0, 200)\n",
    "\n",
    "plt.xlabel('The num of words ', fontsize = 12)\n",
    "plt.title(\"The Number of Words Distribution\", fontsize = 14)\n",
    "plt.show()"
   ]
  },
  {
   "cell_type": "code",
   "execution_count": 17,
   "metadata": {},
   "outputs": [
    {
     "data": {
      "text/plain": [
       "Int64Index([1, 0], dtype='int64')"
      ]
     },
     "execution_count": 17,
     "metadata": {},
     "output_type": "execute_result"
    }
   ],
   "source": [
    "category_count = df1['label'].value_counts()\n",
    "\n",
    "categories = category_count.index\n",
    "\n",
    "categories"
   ]
  },
  {
   "cell_type": "code",
   "execution_count": 19,
   "metadata": {},
   "outputs": [
    {
     "data": {
      "text/plain": [
       "1    386\n",
       "0    362\n",
       "Name: label, dtype: int64"
      ]
     },
     "execution_count": 19,
     "metadata": {},
     "output_type": "execute_result"
    }
   ],
   "source": [
    "category_count"
   ]
  },
  {
   "cell_type": "code",
   "execution_count": 21,
   "metadata": {},
   "outputs": [
    {
     "data": {
      "image/png": "[encoded data removed]",
      "text/plain": [
       "<Figure size 800x400 with 1 Axes>"
      ]
     },
     "metadata": {},
     "output_type": "display_data"
    }
   ],
   "source": [
    "fig = plt.figure(figsize= (8, 4))\n",
    "\n",
    "ax = fig.add_subplot(111)\n",
    "\n",
    "sns.barplot(x = category_count.index, y = category_count )\n",
    "\n",
    "for a, p in enumerate(ax.patches):\n",
    "    ax.annotate(f'{categories[a]}\\n' + format(p.get_height(), '.0f'), xy = (p.get_x() + p.get_width() / 2.0, p.get_height()), xytext = (0,-25), size = 13, color = 'white' , ha = 'center', va = 'center', textcoords = 'offset points', bbox = dict(boxstyle = 'round', facecolor='none',edgecolor='white', alpha = 0.5) )\n",
    "    \n",
    "plt.xlabel('Categories', size = 12)\n",
    "\n",
    "plt.ylabel('The Number of Comments', size= 12)\n",
    "\n",
    "plt.xticks(size = 10)\n",
    "\n",
    "plt.title(\"The number of Comments by class\" , size = 14)\n",
    "\n",
    "plt.show()"
   ]
  },
  {
   "cell_type": "markdown",
   "metadata": {},
   "source": [
    "## Preprocessing"
   ]
  },
  {
   "cell_type": "code",
   "execution_count": 23,
   "metadata": {},
   "outputs": [],
   "source": [
    "import nltk\n",
    "from nltk.corpus import stopwords\n",
    "from nltk.stem import WordNetLemmatizer\n",
    "import gensim"
   ]
  },
  {
   "cell_type": "code",
   "execution_count": 26,
   "metadata": {},
   "outputs": [
    {
     "data": {
      "text/plain": [
       "'!\"#$%&\\'()*+,-./:;<=>?@[\\\\]^_`{|}~'"
      ]
     },
     "execution_count": 26,
     "metadata": {},
     "output_type": "execute_result"
    }
   ],
   "source": [
    "import string\n",
    "string.punctuation"
   ]
  },
  {
   "cell_type": "code",
   "execution_count": 27,
   "metadata": {},
   "outputs": [
    {
     "data": {
      "text/html": [
       "<div>\n",
       "<style scoped>\n",
       "    .dataframe tbody tr th:only-of-type {\n",
       "        vertical-align: middle;\n",
       "    }\n",
       "\n",
       "    .dataframe tbody tr th {\n",
       "        vertical-align: top;\n",
       "    }\n",
       "\n",
       "    .dataframe thead th {\n",
       "        text-align: right;\n",
       "    }\n",
       "</style>\n",
       "<table border=\"1\" class=\"dataframe\">\n",
       "  <thead>\n",
       "    <tr style=\"text-align: right;\">\n",
       "      <th></th>\n",
       "      <th>body_text</th>\n",
       "      <th>label</th>\n",
       "      <th>body_text_clean</th>\n",
       "    </tr>\n",
       "  </thead>\n",
       "  <tbody>\n",
       "    <tr>\n",
       "      <th>0</th>\n",
       "      <td>A very, very, very slow-moving, aimless movie about a distressed, drifting young man.</td>\n",
       "      <td>0</td>\n",
       "      <td>A very very very slowmoving aimless movie about a distressed drifting young man</td>\n",
       "    </tr>\n",
       "    <tr>\n",
       "      <th>1</th>\n",
       "      <td>Not sure who was more lost - the flat characters or the audience, nearly half of whom walked out.</td>\n",
       "      <td>0</td>\n",
       "      <td>Not sure who was more lost  the flat characters or the audience nearly half of whom walked out</td>\n",
       "    </tr>\n",
       "    <tr>\n",
       "      <th>2</th>\n",
       "      <td>Attempting artiness with black &amp; white and clever camera angles, the movie disappointed - became...</td>\n",
       "      <td>0</td>\n",
       "      <td>Attempting artiness with black  white and clever camera angles the movie disappointed  became ev...</td>\n",
       "    </tr>\n",
       "    <tr>\n",
       "      <th>3</th>\n",
       "      <td>Very little music or anything to speak of.</td>\n",
       "      <td>0</td>\n",
       "      <td>Very little music or anything to speak of</td>\n",
       "    </tr>\n",
       "    <tr>\n",
       "      <th>4</th>\n",
       "      <td>The best scene in the movie was when Gerardo is trying to find a song that keeps running through...</td>\n",
       "      <td>1</td>\n",
       "      <td>The best scene in the movie was when Gerardo is trying to find a song that keeps running through...</td>\n",
       "    </tr>\n",
       "  </tbody>\n",
       "</table>\n",
       "</div>"
      ],
      "text/plain": [
       "                                                                                             body_text  \\\n",
       "0              A very, very, very slow-moving, aimless movie about a distressed, drifting young man.     \n",
       "1  Not sure who was more lost - the flat characters or the audience, nearly half of whom walked out.     \n",
       "2  Attempting artiness with black & white and clever camera angles, the movie disappointed - became...   \n",
       "3                                                         Very little music or anything to speak of.     \n",
       "4  The best scene in the movie was when Gerardo is trying to find a song that keeps running through...   \n",
       "\n",
       "   label  \\\n",
       "0      0   \n",
       "1      0   \n",
       "2      0   \n",
       "3      0   \n",
       "4      1   \n",
       "\n",
       "                                                                                       body_text_clean  \n",
       "0                    A very very very slowmoving aimless movie about a distressed drifting young man    \n",
       "1     Not sure who was more lost  the flat characters or the audience nearly half of whom walked out    \n",
       "2  Attempting artiness with black  white and clever camera angles the movie disappointed  became ev...  \n",
       "3                                                          Very little music or anything to speak of    \n",
       "4  The best scene in the movie was when Gerardo is trying to find a song that keeps running through...  "
      ]
     },
     "execution_count": 27,
     "metadata": {},
     "output_type": "execute_result"
    }
   ],
   "source": [
    "def remove_punct(text):\n",
    "    text_nopunct = \"\".join ([char for char in text if char not in string.punctuation]) \n",
    "    return text_nopunct\n",
    "\n",
    "df [\"body_text_clean\"]= df[\"body_text\"].apply(lambda x:remove_punct(x))\n",
    "df.head()"
   ]
  },
  {
   "cell_type": "code",
   "execution_count": 28,
   "metadata": {},
   "outputs": [
    {
     "data": {
      "text/html": [
       "<div>\n",
       "<style scoped>\n",
       "    .dataframe tbody tr th:only-of-type {\n",
       "        vertical-align: middle;\n",
       "    }\n",
       "\n",
       "    .dataframe tbody tr th {\n",
       "        vertical-align: top;\n",
       "    }\n",
       "\n",
       "    .dataframe thead th {\n",
       "        text-align: right;\n",
       "    }\n",
       "</style>\n",
       "<table border=\"1\" class=\"dataframe\">\n",
       "  <thead>\n",
       "    <tr style=\"text-align: right;\">\n",
       "      <th></th>\n",
       "      <th>body_text</th>\n",
       "      <th>label</th>\n",
       "      <th>body_text_clean</th>\n",
       "      <th>body_text_tokenized</th>\n",
       "    </tr>\n",
       "  </thead>\n",
       "  <tbody>\n",
       "    <tr>\n",
       "      <th>0</th>\n",
       "      <td>A very, very, very slow-moving, aimless movie about a distressed, drifting young man.</td>\n",
       "      <td>0</td>\n",
       "      <td>A very very very slowmoving aimless movie about a distressed drifting young man</td>\n",
       "      <td>[a, very, very, very, slowmoving, aimless, movie, about, a, distressed, drifting, young, man, ]</td>\n",
       "    </tr>\n",
       "    <tr>\n",
       "      <th>1</th>\n",
       "      <td>Not sure who was more lost - the flat characters or the audience, nearly half of whom walked out.</td>\n",
       "      <td>0</td>\n",
       "      <td>Not sure who was more lost  the flat characters or the audience nearly half of whom walked out</td>\n",
       "      <td>[not, sure, who, was, more, lost, the, flat, characters, or, the, audience, nearly, half, of, wh...</td>\n",
       "    </tr>\n",
       "    <tr>\n",
       "      <th>2</th>\n",
       "      <td>Attempting artiness with black &amp; white and clever camera angles, the movie disappointed - became...</td>\n",
       "      <td>0</td>\n",
       "      <td>Attempting artiness with black  white and clever camera angles the movie disappointed  became ev...</td>\n",
       "      <td>[attempting, artiness, with, black, white, and, clever, camera, angles, the, movie, disappointed...</td>\n",
       "    </tr>\n",
       "    <tr>\n",
       "      <th>3</th>\n",
       "      <td>Very little music or anything to speak of.</td>\n",
       "      <td>0</td>\n",
       "      <td>Very little music or anything to speak of</td>\n",
       "      <td>[very, little, music, or, anything, to, speak, of, ]</td>\n",
       "    </tr>\n",
       "    <tr>\n",
       "      <th>4</th>\n",
       "      <td>The best scene in the movie was when Gerardo is trying to find a song that keeps running through...</td>\n",
       "      <td>1</td>\n",
       "      <td>The best scene in the movie was when Gerardo is trying to find a song that keeps running through...</td>\n",
       "      <td>[the, best, scene, in, the, movie, was, when, gerardo, is, trying, to, find, a, song, that, keep...</td>\n",
       "    </tr>\n",
       "  </tbody>\n",
       "</table>\n",
       "</div>"
      ],
      "text/plain": [
       "                                                                                             body_text  \\\n",
       "0              A very, very, very slow-moving, aimless movie about a distressed, drifting young man.     \n",
       "1  Not sure who was more lost - the flat characters or the audience, nearly half of whom walked out.     \n",
       "2  Attempting artiness with black & white and clever camera angles, the movie disappointed - became...   \n",
       "3                                                         Very little music or anything to speak of.     \n",
       "4  The best scene in the movie was when Gerardo is trying to find a song that keeps running through...   \n",
       "\n",
       "   label  \\\n",
       "0      0   \n",
       "1      0   \n",
       "2      0   \n",
       "3      0   \n",
       "4      1   \n",
       "\n",
       "                                                                                       body_text_clean  \\\n",
       "0                    A very very very slowmoving aimless movie about a distressed drifting young man     \n",
       "1     Not sure who was more lost  the flat characters or the audience nearly half of whom walked out     \n",
       "2  Attempting artiness with black  white and clever camera angles the movie disappointed  became ev...   \n",
       "3                                                          Very little music or anything to speak of     \n",
       "4  The best scene in the movie was when Gerardo is trying to find a song that keeps running through...   \n",
       "\n",
       "                                                                                   body_text_tokenized  \n",
       "0      [a, very, very, very, slowmoving, aimless, movie, about, a, distressed, drifting, young, man, ]  \n",
       "1  [not, sure, who, was, more, lost, the, flat, characters, or, the, audience, nearly, half, of, wh...  \n",
       "2  [attempting, artiness, with, black, white, and, clever, camera, angles, the, movie, disappointed...  \n",
       "3                                                 [very, little, music, or, anything, to, speak, of, ]  \n",
       "4  [the, best, scene, in, the, movie, was, when, gerardo, is, trying, to, find, a, song, that, keep...  "
      ]
     },
     "execution_count": 28,
     "metadata": {},
     "output_type": "execute_result"
    }
   ],
   "source": [
    "import re\n",
    "def tokenize(text):\n",
    "    tokens= re.split(\"\\W+\",text)\n",
    "    return tokens\n",
    "\n",
    "df[\"body_text_tokenized\"]=df [\"body_text_clean\"].apply(lambda x:tokenize(x.lower()))\n",
    "df.head()"
   ]
  },
  {
   "cell_type": "code",
   "execution_count": 29,
   "metadata": {},
   "outputs": [],
   "source": [
    "import nltk\n",
    "\n",
    "stopword= nltk.corpus.stopwords.words(\"english\")"
   ]
  },
  {
   "cell_type": "code",
   "execution_count": 30,
   "metadata": {},
   "outputs": [],
   "source": [
    "def remove_stopwords(tokenized_list):\n",
    "    text =[word for word in tokenized_list if word not in stopword]\n",
    "    return text\n",
    "\n",
    "df[\"body_text_nostop\"] = df[\"body_text_tokenized\"].apply(lambda x:remove_stopwords(x))"
   ]
  },
  {
   "cell_type": "code",
   "execution_count": 31,
   "metadata": {},
   "outputs": [
    {
     "data": {
      "text/html": [
       "<div>\n",
       "<style scoped>\n",
       "    .dataframe tbody tr th:only-of-type {\n",
       "        vertical-align: middle;\n",
       "    }\n",
       "\n",
       "    .dataframe tbody tr th {\n",
       "        vertical-align: top;\n",
       "    }\n",
       "\n",
       "    .dataframe thead th {\n",
       "        text-align: right;\n",
       "    }\n",
       "</style>\n",
       "<table border=\"1\" class=\"dataframe\">\n",
       "  <thead>\n",
       "    <tr style=\"text-align: right;\">\n",
       "      <th></th>\n",
       "      <th>body_text</th>\n",
       "      <th>label</th>\n",
       "      <th>body_text_clean</th>\n",
       "      <th>body_text_tokenized</th>\n",
       "      <th>body_text_nostop</th>\n",
       "    </tr>\n",
       "  </thead>\n",
       "  <tbody>\n",
       "    <tr>\n",
       "      <th>0</th>\n",
       "      <td>A very, very, very slow-moving, aimless movie about a distressed, drifting young man.</td>\n",
       "      <td>0</td>\n",
       "      <td>A very very very slowmoving aimless movie about a distressed drifting young man</td>\n",
       "      <td>[a, very, very, very, slowmoving, aimless, movie, about, a, distressed, drifting, young, man, ]</td>\n",
       "      <td>[slowmoving, aimless, movie, distressed, drifting, young, man, ]</td>\n",
       "    </tr>\n",
       "    <tr>\n",
       "      <th>1</th>\n",
       "      <td>Not sure who was more lost - the flat characters or the audience, nearly half of whom walked out.</td>\n",
       "      <td>0</td>\n",
       "      <td>Not sure who was more lost  the flat characters or the audience nearly half of whom walked out</td>\n",
       "      <td>[not, sure, who, was, more, lost, the, flat, characters, or, the, audience, nearly, half, of, wh...</td>\n",
       "      <td>[sure, lost, flat, characters, audience, nearly, half, walked, ]</td>\n",
       "    </tr>\n",
       "    <tr>\n",
       "      <th>2</th>\n",
       "      <td>Attempting artiness with black &amp; white and clever camera angles, the movie disappointed - became...</td>\n",
       "      <td>0</td>\n",
       "      <td>Attempting artiness with black  white and clever camera angles the movie disappointed  became ev...</td>\n",
       "      <td>[attempting, artiness, with, black, white, and, clever, camera, angles, the, movie, disappointed...</td>\n",
       "      <td>[attempting, artiness, black, white, clever, camera, angles, movie, disappointed, became, even, ...</td>\n",
       "    </tr>\n",
       "    <tr>\n",
       "      <th>3</th>\n",
       "      <td>Very little music or anything to speak of.</td>\n",
       "      <td>0</td>\n",
       "      <td>Very little music or anything to speak of</td>\n",
       "      <td>[very, little, music, or, anything, to, speak, of, ]</td>\n",
       "      <td>[little, music, anything, speak, ]</td>\n",
       "    </tr>\n",
       "    <tr>\n",
       "      <th>4</th>\n",
       "      <td>The best scene in the movie was when Gerardo is trying to find a song that keeps running through...</td>\n",
       "      <td>1</td>\n",
       "      <td>The best scene in the movie was when Gerardo is trying to find a song that keeps running through...</td>\n",
       "      <td>[the, best, scene, in, the, movie, was, when, gerardo, is, trying, to, find, a, song, that, keep...</td>\n",
       "      <td>[best, scene, movie, gerardo, trying, find, song, keeps, running, head, ]</td>\n",
       "    </tr>\n",
       "  </tbody>\n",
       "</table>\n",
       "</div>"
      ],
      "text/plain": [
       "                                                                                             body_text  \\\n",
       "0              A very, very, very slow-moving, aimless movie about a distressed, drifting young man.     \n",
       "1  Not sure who was more lost - the flat characters or the audience, nearly half of whom walked out.     \n",
       "2  Attempting artiness with black & white and clever camera angles, the movie disappointed - became...   \n",
       "3                                                         Very little music or anything to speak of.     \n",
       "4  The best scene in the movie was when Gerardo is trying to find a song that keeps running through...   \n",
       "\n",
       "   label  \\\n",
       "0      0   \n",
       "1      0   \n",
       "2      0   \n",
       "3      0   \n",
       "4      1   \n",
       "\n",
       "                                                                                       body_text_clean  \\\n",
       "0                    A very very very slowmoving aimless movie about a distressed drifting young man     \n",
       "1     Not sure who was more lost  the flat characters or the audience nearly half of whom walked out     \n",
       "2  Attempting artiness with black  white and clever camera angles the movie disappointed  became ev...   \n",
       "3                                                          Very little music or anything to speak of     \n",
       "4  The best scene in the movie was when Gerardo is trying to find a song that keeps running through...   \n",
       "\n",
       "                                                                                   body_text_tokenized  \\\n",
       "0      [a, very, very, very, slowmoving, aimless, movie, about, a, distressed, drifting, young, man, ]   \n",
       "1  [not, sure, who, was, more, lost, the, flat, characters, or, the, audience, nearly, half, of, wh...   \n",
       "2  [attempting, artiness, with, black, white, and, clever, camera, angles, the, movie, disappointed...   \n",
       "3                                                 [very, little, music, or, anything, to, speak, of, ]   \n",
       "4  [the, best, scene, in, the, movie, was, when, gerardo, is, trying, to, find, a, song, that, keep...   \n",
       "\n",
       "                                                                                      body_text_nostop  \n",
       "0                                     [slowmoving, aimless, movie, distressed, drifting, young, man, ]  \n",
       "1                                     [sure, lost, flat, characters, audience, nearly, half, walked, ]  \n",
       "2  [attempting, artiness, black, white, clever, camera, angles, movie, disappointed, became, even, ...  \n",
       "3                                                                   [little, music, anything, speak, ]  \n",
       "4                            [best, scene, movie, gerardo, trying, find, song, keeps, running, head, ]  "
      ]
     },
     "execution_count": 31,
     "metadata": {},
     "output_type": "execute_result"
    }
   ],
   "source": [
    "df.head()"
   ]
  },
  {
   "cell_type": "code",
   "execution_count": null,
   "metadata": {},
   "outputs": [],
   "source": [
    "##Stemming"
   ]
  },
  {
   "cell_type": "code",
   "execution_count": 32,
   "metadata": {},
   "outputs": [],
   "source": [
    "#importing the Stemming function from nltk library\n",
    "from nltk.stem.porter import PorterStemmer\n",
    "#defining the object for stemming\n",
    "porter_stemmer = PorterStemmer()"
   ]
  },
  {
   "cell_type": "code",
   "execution_count": 33,
   "metadata": {},
   "outputs": [],
   "source": [
    "#defining a function for stemming\n",
    "def stemming(text):\n",
    "    stem_text = [porter_stemmer.stem(word) for word in text]\n",
    "    return stem_text\n",
    "df['text_stemmed']=df['body_text_nostop'].apply(lambda x: stemming(x))"
   ]
  },
  {
   "cell_type": "code",
   "execution_count": 34,
   "metadata": {},
   "outputs": [
    {
     "data": {
      "text/html": [
       "<div>\n",
       "<style scoped>\n",
       "    .dataframe tbody tr th:only-of-type {\n",
       "        vertical-align: middle;\n",
       "    }\n",
       "\n",
       "    .dataframe tbody tr th {\n",
       "        vertical-align: top;\n",
       "    }\n",
       "\n",
       "    .dataframe thead th {\n",
       "        text-align: right;\n",
       "    }\n",
       "</style>\n",
       "<table border=\"1\" class=\"dataframe\">\n",
       "  <thead>\n",
       "    <tr style=\"text-align: right;\">\n",
       "      <th></th>\n",
       "      <th>body_text</th>\n",
       "      <th>label</th>\n",
       "      <th>body_text_clean</th>\n",
       "      <th>body_text_tokenized</th>\n",
       "      <th>body_text_nostop</th>\n",
       "      <th>text_stemmed</th>\n",
       "    </tr>\n",
       "  </thead>\n",
       "  <tbody>\n",
       "    <tr>\n",
       "      <th>0</th>\n",
       "      <td>A very, very, very slow-moving, aimless movie about a distressed, drifting young man.</td>\n",
       "      <td>0</td>\n",
       "      <td>A very very very slowmoving aimless movie about a distressed drifting young man</td>\n",
       "      <td>[a, very, very, very, slowmoving, aimless, movie, about, a, distressed, drifting, young, man, ]</td>\n",
       "      <td>[slowmoving, aimless, movie, distressed, drifting, young, man, ]</td>\n",
       "      <td>[slowmov, aimless, movi, distress, drift, young, man, ]</td>\n",
       "    </tr>\n",
       "    <tr>\n",
       "      <th>1</th>\n",
       "      <td>Not sure who was more lost - the flat characters or the audience, nearly half of whom walked out.</td>\n",
       "      <td>0</td>\n",
       "      <td>Not sure who was more lost  the flat characters or the audience nearly half of whom walked out</td>\n",
       "      <td>[not, sure, who, was, more, lost, the, flat, characters, or, the, audience, nearly, half, of, wh...</td>\n",
       "      <td>[sure, lost, flat, characters, audience, nearly, half, walked, ]</td>\n",
       "      <td>[sure, lost, flat, charact, audienc, nearli, half, walk, ]</td>\n",
       "    </tr>\n",
       "    <tr>\n",
       "      <th>2</th>\n",
       "      <td>Attempting artiness with black &amp; white and clever camera angles, the movie disappointed - became...</td>\n",
       "      <td>0</td>\n",
       "      <td>Attempting artiness with black  white and clever camera angles the movie disappointed  became ev...</td>\n",
       "      <td>[attempting, artiness, with, black, white, and, clever, camera, angles, the, movie, disappointed...</td>\n",
       "      <td>[attempting, artiness, black, white, clever, camera, angles, movie, disappointed, became, even, ...</td>\n",
       "      <td>[attempt, arti, black, white, clever, camera, angl, movi, disappoint, becam, even, ridicul, act,...</td>\n",
       "    </tr>\n",
       "    <tr>\n",
       "      <th>3</th>\n",
       "      <td>Very little music or anything to speak of.</td>\n",
       "      <td>0</td>\n",
       "      <td>Very little music or anything to speak of</td>\n",
       "      <td>[very, little, music, or, anything, to, speak, of, ]</td>\n",
       "      <td>[little, music, anything, speak, ]</td>\n",
       "      <td>[littl, music, anyth, speak, ]</td>\n",
       "    </tr>\n",
       "    <tr>\n",
       "      <th>4</th>\n",
       "      <td>The best scene in the movie was when Gerardo is trying to find a song that keeps running through...</td>\n",
       "      <td>1</td>\n",
       "      <td>The best scene in the movie was when Gerardo is trying to find a song that keeps running through...</td>\n",
       "      <td>[the, best, scene, in, the, movie, was, when, gerardo, is, trying, to, find, a, song, that, keep...</td>\n",
       "      <td>[best, scene, movie, gerardo, trying, find, song, keeps, running, head, ]</td>\n",
       "      <td>[best, scene, movi, gerardo, tri, find, song, keep, run, head, ]</td>\n",
       "    </tr>\n",
       "  </tbody>\n",
       "</table>\n",
       "</div>"
      ],
      "text/plain": [
       "                                                                                             body_text  \\\n",
       "0              A very, very, very slow-moving, aimless movie about a distressed, drifting young man.     \n",
       "1  Not sure who was more lost - the flat characters or the audience, nearly half of whom walked out.     \n",
       "2  Attempting artiness with black & white and clever camera angles, the movie disappointed - became...   \n",
       "3                                                         Very little music or anything to speak of.     \n",
       "4  The best scene in the movie was when Gerardo is trying to find a song that keeps running through...   \n",
       "\n",
       "   label  \\\n",
       "0      0   \n",
       "1      0   \n",
       "2      0   \n",
       "3      0   \n",
       "4      1   \n",
       "\n",
       "                                                                                       body_text_clean  \\\n",
       "0                    A very very very slowmoving aimless movie about a distressed drifting young man     \n",
       "1     Not sure who was more lost  the flat characters or the audience nearly half of whom walked out     \n",
       "2  Attempting artiness with black  white and clever camera angles the movie disappointed  became ev...   \n",
       "3                                                          Very little music or anything to speak of     \n",
       "4  The best scene in the movie was when Gerardo is trying to find a song that keeps running through...   \n",
       "\n",
       "                                                                                   body_text_tokenized  \\\n",
       "0      [a, very, very, very, slowmoving, aimless, movie, about, a, distressed, drifting, young, man, ]   \n",
       "1  [not, sure, who, was, more, lost, the, flat, characters, or, the, audience, nearly, half, of, wh...   \n",
       "2  [attempting, artiness, with, black, white, and, clever, camera, angles, the, movie, disappointed...   \n",
       "3                                                 [very, little, music, or, anything, to, speak, of, ]   \n",
       "4  [the, best, scene, in, the, movie, was, when, gerardo, is, trying, to, find, a, song, that, keep...   \n",
       "\n",
       "                                                                                      body_text_nostop  \\\n",
       "0                                     [slowmoving, aimless, movie, distressed, drifting, young, man, ]   \n",
       "1                                     [sure, lost, flat, characters, audience, nearly, half, walked, ]   \n",
       "2  [attempting, artiness, black, white, clever, camera, angles, movie, disappointed, became, even, ...   \n",
       "3                                                                   [little, music, anything, speak, ]   \n",
       "4                            [best, scene, movie, gerardo, trying, find, song, keeps, running, head, ]   \n",
       "\n",
       "                                                                                          text_stemmed  \n",
       "0                                              [slowmov, aimless, movi, distress, drift, young, man, ]  \n",
       "1                                           [sure, lost, flat, charact, audienc, nearli, half, walk, ]  \n",
       "2  [attempt, arti, black, white, clever, camera, angl, movi, disappoint, becam, even, ridicul, act,...  \n",
       "3                                                                       [littl, music, anyth, speak, ]  \n",
       "4                                     [best, scene, movi, gerardo, tri, find, song, keep, run, head, ]  "
      ]
     },
     "execution_count": 34,
     "metadata": {},
     "output_type": "execute_result"
    }
   ],
   "source": [
    "df.head()"
   ]
  },
  {
   "cell_type": "code",
   "execution_count": 35,
   "metadata": {},
   "outputs": [],
   "source": [
    "from nltk.stem import WordNetLemmatizer\n",
    "#defining the object for Lemmatization\n",
    "wordnet_lemmatizer = WordNetLemmatizer()"
   ]
  },
  {
   "cell_type": "code",
   "execution_count": 36,
   "metadata": {},
   "outputs": [],
   "source": [
    "#defining the function for lemmatization\n",
    "def lemmatizer(text):\n",
    "    lemm_text = [wordnet_lemmatizer.lemmatize(word) for word in text]\n",
    "    return lemm_text\n",
    "df['msg_lemmatized']=df['body_text_nostop'].apply(lambda x:lemmatizer(x))"
   ]
  },
  {
   "cell_type": "code",
   "execution_count": 37,
   "metadata": {},
   "outputs": [
    {
     "data": {
      "text/html": [
       "<div>\n",
       "<style scoped>\n",
       "    .dataframe tbody tr th:only-of-type {\n",
       "        vertical-align: middle;\n",
       "    }\n",
       "\n",
       "    .dataframe tbody tr th {\n",
       "        vertical-align: top;\n",
       "    }\n",
       "\n",
       "    .dataframe thead th {\n",
       "        text-align: right;\n",
       "    }\n",
       "</style>\n",
       "<table border=\"1\" class=\"dataframe\">\n",
       "  <thead>\n",
       "    <tr style=\"text-align: right;\">\n",
       "      <th></th>\n",
       "      <th>body_text</th>\n",
       "      <th>label</th>\n",
       "      <th>body_text_clean</th>\n",
       "      <th>body_text_tokenized</th>\n",
       "      <th>body_text_nostop</th>\n",
       "      <th>text_stemmed</th>\n",
       "      <th>msg_lemmatized</th>\n",
       "    </tr>\n",
       "  </thead>\n",
       "  <tbody>\n",
       "    <tr>\n",
       "      <th>0</th>\n",
       "      <td>A very, very, very slow-moving, aimless movie about a distressed, drifting young man.</td>\n",
       "      <td>0</td>\n",
       "      <td>A very very very slowmoving aimless movie about a distressed drifting young man</td>\n",
       "      <td>[a, very, very, very, slowmoving, aimless, movie, about, a, distressed, drifting, young, man, ]</td>\n",
       "      <td>[slowmoving, aimless, movie, distressed, drifting, young, man, ]</td>\n",
       "      <td>[slowmov, aimless, movi, distress, drift, young, man, ]</td>\n",
       "      <td>[slowmoving, aimless, movie, distressed, drifting, young, man, ]</td>\n",
       "    </tr>\n",
       "    <tr>\n",
       "      <th>1</th>\n",
       "      <td>Not sure who was more lost - the flat characters or the audience, nearly half of whom walked out.</td>\n",
       "      <td>0</td>\n",
       "      <td>Not sure who was more lost  the flat characters or the audience nearly half of whom walked out</td>\n",
       "      <td>[not, sure, who, was, more, lost, the, flat, characters, or, the, audience, nearly, half, of, wh...</td>\n",
       "      <td>[sure, lost, flat, characters, audience, nearly, half, walked, ]</td>\n",
       "      <td>[sure, lost, flat, charact, audienc, nearli, half, walk, ]</td>\n",
       "      <td>[sure, lost, flat, character, audience, nearly, half, walked, ]</td>\n",
       "    </tr>\n",
       "    <tr>\n",
       "      <th>2</th>\n",
       "      <td>Attempting artiness with black &amp; white and clever camera angles, the movie disappointed - became...</td>\n",
       "      <td>0</td>\n",
       "      <td>Attempting artiness with black  white and clever camera angles the movie disappointed  became ev...</td>\n",
       "      <td>[attempting, artiness, with, black, white, and, clever, camera, angles, the, movie, disappointed...</td>\n",
       "      <td>[attempting, artiness, black, white, clever, camera, angles, movie, disappointed, became, even, ...</td>\n",
       "      <td>[attempt, arti, black, white, clever, camera, angl, movi, disappoint, becam, even, ridicul, act,...</td>\n",
       "      <td>[attempting, artiness, black, white, clever, camera, angle, movie, disappointed, became, even, r...</td>\n",
       "    </tr>\n",
       "    <tr>\n",
       "      <th>3</th>\n",
       "      <td>Very little music or anything to speak of.</td>\n",
       "      <td>0</td>\n",
       "      <td>Very little music or anything to speak of</td>\n",
       "      <td>[very, little, music, or, anything, to, speak, of, ]</td>\n",
       "      <td>[little, music, anything, speak, ]</td>\n",
       "      <td>[littl, music, anyth, speak, ]</td>\n",
       "      <td>[little, music, anything, speak, ]</td>\n",
       "    </tr>\n",
       "    <tr>\n",
       "      <th>4</th>\n",
       "      <td>The best scene in the movie was when Gerardo is trying to find a song that keeps running through...</td>\n",
       "      <td>1</td>\n",
       "      <td>The best scene in the movie was when Gerardo is trying to find a song that keeps running through...</td>\n",
       "      <td>[the, best, scene, in, the, movie, was, when, gerardo, is, trying, to, find, a, song, that, keep...</td>\n",
       "      <td>[best, scene, movie, gerardo, trying, find, song, keeps, running, head, ]</td>\n",
       "      <td>[best, scene, movi, gerardo, tri, find, song, keep, run, head, ]</td>\n",
       "      <td>[best, scene, movie, gerardo, trying, find, song, keep, running, head, ]</td>\n",
       "    </tr>\n",
       "  </tbody>\n",
       "</table>\n",
       "</div>"
      ],
      "text/plain": [
       "                                                                                             body_text  \\\n",
       "0              A very, very, very slow-moving, aimless movie about a distressed, drifting young man.     \n",
       "1  Not sure who was more lost - the flat characters or the audience, nearly half of whom walked out.     \n",
       "2  Attempting artiness with black & white and clever camera angles, the movie disappointed - became...   \n",
       "3                                                         Very little music or anything to speak of.     \n",
       "4  The best scene in the movie was when Gerardo is trying to find a song that keeps running through...   \n",
       "\n",
       "   label  \\\n",
       "0      0   \n",
       "1      0   \n",
       "2      0   \n",
       "3      0   \n",
       "4      1   \n",
       "\n",
       "                                                                                       body_text_clean  \\\n",
       "0                    A very very very slowmoving aimless movie about a distressed drifting young man     \n",
       "1     Not sure who was more lost  the flat characters or the audience nearly half of whom walked out     \n",
       "2  Attempting artiness with black  white and clever camera angles the movie disappointed  became ev...   \n",
       "3                                                          Very little music or anything to speak of     \n",
       "4  The best scene in the movie was when Gerardo is trying to find a song that keeps running through...   \n",
       "\n",
       "                                                                                   body_text_tokenized  \\\n",
       "0      [a, very, very, very, slowmoving, aimless, movie, about, a, distressed, drifting, young, man, ]   \n",
       "1  [not, sure, who, was, more, lost, the, flat, characters, or, the, audience, nearly, half, of, wh...   \n",
       "2  [attempting, artiness, with, black, white, and, clever, camera, angles, the, movie, disappointed...   \n",
       "3                                                 [very, little, music, or, anything, to, speak, of, ]   \n",
       "4  [the, best, scene, in, the, movie, was, when, gerardo, is, trying, to, find, a, song, that, keep...   \n",
       "\n",
       "                                                                                      body_text_nostop  \\\n",
       "0                                     [slowmoving, aimless, movie, distressed, drifting, young, man, ]   \n",
       "1                                     [sure, lost, flat, characters, audience, nearly, half, walked, ]   \n",
       "2  [attempting, artiness, black, white, clever, camera, angles, movie, disappointed, became, even, ...   \n",
       "3                                                                   [little, music, anything, speak, ]   \n",
       "4                            [best, scene, movie, gerardo, trying, find, song, keeps, running, head, ]   \n",
       "\n",
       "                                                                                          text_stemmed  \\\n",
       "0                                              [slowmov, aimless, movi, distress, drift, young, man, ]   \n",
       "1                                           [sure, lost, flat, charact, audienc, nearli, half, walk, ]   \n",
       "2  [attempt, arti, black, white, clever, camera, angl, movi, disappoint, becam, even, ridicul, act,...   \n",
       "3                                                                       [littl, music, anyth, speak, ]   \n",
       "4                                     [best, scene, movi, gerardo, tri, find, song, keep, run, head, ]   \n",
       "\n",
       "                                                                                        msg_lemmatized  \n",
       "0                                     [slowmoving, aimless, movie, distressed, drifting, young, man, ]  \n",
       "1                                      [sure, lost, flat, character, audience, nearly, half, walked, ]  \n",
       "2  [attempting, artiness, black, white, clever, camera, angle, movie, disappointed, became, even, r...  \n",
       "3                                                                   [little, music, anything, speak, ]  \n",
       "4                             [best, scene, movie, gerardo, trying, find, song, keep, running, head, ]  "
      ]
     },
     "execution_count": 37,
     "metadata": {},
     "output_type": "execute_result"
    }
   ],
   "source": [
    "df.head()"
   ]
  },
  {
   "cell_type": "markdown",
   "metadata": {},
   "source": [
    "## Topic Extraction"
   ]
  }
 ],
 "metadata": {
  "kernelspec": {
   "display_name": "Python 3.9.7 ('base')",
   "language": "python",
   "name": "python3"
  },
  "language_info": {
   "codemirror_mode": {
    "name": "ipython",
    "version": 3
   },
   "file_extension": ".py",
   "mimetype": "text/x-python",
   "name": "python",
   "nbconvert_exporter": "python",
   "pygments_lexer": "ipython3",
   "version": "3.9.7"
  },
  "orig_nbformat": 4,
  "vscode": {
   "interpreter": {
    "hash": "ad2bdc8ecc057115af97d19610ffacc2b4e99fae6737bb82f5d7fb13d2f2c186"
   }
  }
 },
 "nbformat": 4,
 "nbformat_minor": 2
}
